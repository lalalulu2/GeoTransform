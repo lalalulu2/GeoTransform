{
 "cells": [
  {
   "cell_type": "markdown",
   "metadata": {
    "papermill": {
     "duration": 0.008851,
     "end_time": "2020-11-19T18:36:57.115408",
     "exception": false,
     "start_time": "2020-11-19T18:36:57.106557",
     "status": "completed"
    },
    "tags": []
   },
   "source": [
    "In this competition, we deal with TIFF images. I've never worked with this format before so my first question was: what library should I use to read this format? The most obvious choices were `Pillow` and `tifffile` packages. However, they didn't work: the former failed with `DecompressionBombError` (!), while the latter complained about NumPy array being non-contiguous for some image in the dataset.\n",
    "\n",
    "[After some search](https://stackoverflow.com/questions/7569553/working-with-tiffs-import-export-in-python-using-numpy), I stumbled upon the `osgeo` library. As the name suggests, the library was probably written to work with maps, satellite images, or something like that. But it has TIFF reading functionality built-in so why not to apply it for medical imagery, right? \n",
    "\n",
    "Here I show my approach to read the dataset images. This approach worked out for me right out of the box, without any errors that I encountered with other libraries. But if you know a better/faster way, please let me know!"
   ]
  },
  {
   "cell_type": "code",
   "execution_count": 1,
   "metadata": {
    "execution": {
     "iopub.execute_input": "2020-11-19T18:36:57.140193Z",
     "iopub.status.busy": "2020-11-19T18:36:57.139375Z",
     "iopub.status.idle": "2020-11-19T18:36:57.629975Z",
     "shell.execute_reply": "2020-11-19T18:36:57.629065Z"
    },
    "papermill": {
     "duration": 0.504453,
     "end_time": "2020-11-19T18:36:57.630126",
     "exception": false,
     "start_time": "2020-11-19T18:36:57.125673",
     "status": "completed"
    },
    "tags": []
   },
   "outputs": [],
   "source": [
    "import gc\n",
    "import glob\n",
    "import json\n",
    "from os.path import basename, dirname, splitext\n",
    "import numpy as np\n",
    "from osgeo import gdal"
   ]
  },
  {
   "cell_type": "code",
   "execution_count": 2,
   "metadata": {
    "execution": {
     "iopub.execute_input": "2020-11-19T18:36:57.654575Z",
     "iopub.status.busy": "2020-11-19T18:36:57.653512Z",
     "iopub.status.idle": "2020-11-19T18:36:57.657048Z",
     "shell.execute_reply": "2020-11-19T18:36:57.656303Z"
    },
    "papermill": {
     "duration": 0.018938,
     "end_time": "2020-11-19T18:36:57.657184",
     "exception": false,
     "start_time": "2020-11-19T18:36:57.638246",
     "status": "completed"
    },
    "tags": []
   },
   "outputs": [],
   "source": [
    "def human_readable_size(arr: np.ndarray) -> str:\n",
    "    \"\"\"Gets array's size as a verbose, human-readable string.\"\"\"\n",
    "    \n",
    "    n = arr.nbytes\n",
    "    for unit in ('bytes', 'Kb', 'Mb', 'Gb'):\n",
    "        if n >= 1024:\n",
    "            n /= 1024\n",
    "        else:\n",
    "            break\n",
    "    return f'{n:.3f} {unit}'"
   ]
  },
  {
   "cell_type": "code",
   "execution_count": 3,
   "metadata": {
    "execution": {
     "iopub.execute_input": "2020-11-19T18:36:57.682493Z",
     "iopub.status.busy": "2020-11-19T18:36:57.681455Z",
     "iopub.status.idle": "2020-11-19T18:36:57.685027Z",
     "shell.execute_reply": "2020-11-19T18:36:57.684062Z"
    },
    "papermill": {
     "duration": 0.020194,
     "end_time": "2020-11-19T18:36:57.685172",
     "exception": false,
     "start_time": "2020-11-19T18:36:57.664978",
     "status": "completed"
    },
    "tags": []
   },
   "outputs": [],
   "source": [
    "def read_tiff(path: str) -> np.ndarray:\n",
    "    \"\"\"Reads TIFF file.\"\"\"\n",
    "    \n",
    "    dataset = gdal.Open(path, gdal.GA_ReadOnly)\n",
    "    n_channels = dataset.RasterCount\n",
    "    width = dataset.RasterXSize\n",
    "    height = dataset.RasterYSize\n",
    "    image = np.zeros((n_channels, height, width), dtype=np.uint8)\n",
    "    for i in range(n_channels):\n",
    "        band = dataset.GetRasterBand(i+1)\n",
    "        channel = band.ReadAsArray()\n",
    "        image[i] = channel\n",
    "    return image"
   ]
  },
  {
   "cell_type": "code",
   "execution_count": 4,
   "metadata": {
    "execution": {
     "iopub.execute_input": "2020-11-19T18:36:57.710566Z",
     "iopub.status.busy": "2020-11-19T18:36:57.709707Z",
     "iopub.status.idle": "2020-11-19T18:44:33.284970Z",
     "shell.execute_reply": "2020-11-19T18:44:33.284158Z"
    },
    "papermill": {
     "duration": 455.591883,
     "end_time": "2020-11-19T18:44:33.285140",
     "exception": false,
     "start_time": "2020-11-19T18:36:57.693257",
     "status": "completed"
    },
    "tags": []
   },
   "outputs": [
    {
     "name": "stdout",
     "output_type": "stream",
     "text": [
      "Processing file: /kaggle/input/hubmap-kidney-segmentation/train/095bf7a1f.tiff\n",
      "Processing file: /kaggle/input/hubmap-kidney-segmentation/train/1e2425f28.tiff\n",
      "Processing file: /kaggle/input/hubmap-kidney-segmentation/train/54f2eec69.tiff\n",
      "Processing file: /kaggle/input/hubmap-kidney-segmentation/train/cb2d976f4.tiff\n",
      "Processing file: /kaggle/input/hubmap-kidney-segmentation/train/aaa6a05cc.tiff\n",
      "Processing file: /kaggle/input/hubmap-kidney-segmentation/train/0486052bb.tiff\n",
      "Processing file: /kaggle/input/hubmap-kidney-segmentation/train/2f6ecfcdf.tiff\n",
      "Processing file: /kaggle/input/hubmap-kidney-segmentation/train/e79de561c.tiff\n",
      "Processing file: /kaggle/input/hubmap-kidney-segmentation/test/afa5e8098.tiff\n",
      "Processing file: /kaggle/input/hubmap-kidney-segmentation/test/26dc41664.tiff\n",
      "Processing file: /kaggle/input/hubmap-kidney-segmentation/test/b9a3865fc.tiff\n",
      "Processing file: /kaggle/input/hubmap-kidney-segmentation/test/c68fe75ea.tiff\n",
      "Processing file: /kaggle/input/hubmap-kidney-segmentation/test/b2dc8411c.tiff\n"
     ]
    }
   ],
   "source": [
    "meta = []\n",
    "\n",
    "for filename in glob.glob('/kaggle/input/hubmap-kidney-segmentation/**/*.tiff'):\n",
    "    print(f'Processing file: {filename}')\n",
    "    identifier, _ = splitext(basename(filename))\n",
    "    subset = basename(dirname(filename))\n",
    "    img = read_tiff(filename)\n",
    "    meta.append(dict(\n",
    "        identifier=identifier,\n",
    "        filename=filename,\n",
    "        subset=subset,\n",
    "        memory_bytes=img.nbytes,\n",
    "        memory_human_readable=human_readable_size(img),\n",
    "        image_shape=img.shape\n",
    "    ))\n",
    "    del img\n",
    "    gc.collect()"
   ]
  },
  {
   "cell_type": "code",
   "execution_count": 5,
   "metadata": {
    "execution": {
     "iopub.execute_input": "2020-11-19T18:44:33.318984Z",
     "iopub.status.busy": "2020-11-19T18:44:33.317753Z",
     "iopub.status.idle": "2020-11-19T18:44:33.324215Z",
     "shell.execute_reply": "2020-11-19T18:44:33.323136Z"
    },
    "papermill": {
     "duration": 0.025695,
     "end_time": "2020-11-19T18:44:33.324411",
     "exception": false,
     "start_time": "2020-11-19T18:44:33.298716",
     "status": "completed"
    },
    "tags": []
   },
   "outputs": [
    {
     "name": "stdout",
     "output_type": "stream",
     "text": [
      "id: 095bf7a1f, memory:   4.158 Gb, shape: (3, 38160, 39000)\n",
      "id: 1e2425f28, memory:   2.411 Gb, shape: (3, 26780, 32220)\n",
      "id: 54f2eec69, memory:   1.891 Gb, shape: (3, 30440, 22240)\n",
      "id: cb2d976f4, memory:   4.837 Gb, shape: (3, 34940, 49548)\n",
      "id: aaa6a05cc, memory: 688.168 Mb, shape: (3, 18484, 13013)\n",
      "id: 0486052bb, memory:   2.517 Gb, shape: (3, 25784, 34937)\n",
      "id: 2f6ecfcdf, memory:   2.254 Gb, shape: (3, 31278, 25794)\n",
      "id: e79de561c, memory:   1.221 Gb, shape: (3, 16180, 27020)\n",
      "id: afa5e8098, memory:   4.501 Gb, shape: (3, 36800, 43780)\n",
      "id: 26dc41664, memory:   4.516 Gb, shape: (3, 38160, 42360)\n",
      "id: b9a3865fc, memory:   3.535 Gb, shape: (3, 31295, 40429)\n",
      "id: c68fe75ea, memory:   3.733 Gb, shape: (3, 26840, 49780)\n",
      "id: b2dc8411c, memory:   1.297 Gb, shape: (3, 14844, 31262)\n"
     ]
    }
   ],
   "source": [
    "for info in meta:\n",
    "    print(\n",
    "        f'id: {info[\"identifier\"]}, '\n",
    "        f'memory: {info[\"memory_human_readable\"]:>10s}, '\n",
    "        f'shape: {info[\"image_shape\"]}'\n",
    "    )"
   ]
  },
  {
   "cell_type": "code",
   "execution_count": 6,
   "metadata": {
    "execution": {
     "iopub.execute_input": "2020-11-19T18:44:33.359158Z",
     "iopub.status.busy": "2020-11-19T18:44:33.358193Z",
     "iopub.status.idle": "2020-11-19T18:44:33.362464Z",
     "shell.execute_reply": "2020-11-19T18:44:33.361561Z"
    },
    "papermill": {
     "duration": 0.023906,
     "end_time": "2020-11-19T18:44:33.362633",
     "exception": false,
     "start_time": "2020-11-19T18:44:33.338727",
     "status": "completed"
    },
    "tags": []
   },
   "outputs": [],
   "source": [
    "with open('/kaggle/working/meta.json', 'w') as fp:\n",
    "    json.dump(meta, fp)"
   ]
  },
  {
   "cell_type": "code",
   "execution_count": null,
   "metadata": {
    "papermill": {
     "duration": 0.013781,
     "end_time": "2020-11-19T18:44:33.390961",
     "exception": false,
     "start_time": "2020-11-19T18:44:33.377180",
     "status": "completed"
    },
    "tags": []
   },
   "outputs": [],
   "source": []
  }
 ],
 "metadata": {
  "kernelspec": {
   "display_name": "Python 3",
   "language": "python",
   "name": "python3"
  },
  "language_info": {
   "codemirror_mode": {
    "name": "ipython",
    "version": 3
   },
   "file_extension": ".py",
   "mimetype": "text/x-python",
   "name": "python",
   "nbconvert_exporter": "python",
   "pygments_lexer": "ipython3",
   "version": "3.7.6"
  },
  "papermill": {
   "duration": 461.605918,
   "end_time": "2020-11-19T18:44:33.513961",
   "environment_variables": {},
   "exception": null,
   "input_path": "__notebook__.ipynb",
   "output_path": "__notebook__.ipynb",
   "parameters": {},
   "start_time": "2020-11-19T18:36:51.908043",
   "version": "2.1.0"
  }
 },
 "nbformat": 4,
 "nbformat_minor": 4
}
